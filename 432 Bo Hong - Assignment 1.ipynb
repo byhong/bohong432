{
 "cells": [
  {
   "cell_type": "markdown",
   "metadata": {},
   "source": [
    "### Bo Hong - Assignment 1"
   ]
  },
  {
   "cell_type": "code",
   "execution_count": 1,
   "metadata": {
    "collapsed": true
   },
   "outputs": [],
   "source": [
    "import numpy as np\n",
    "import time\n",
    "import matplotlib.pyplot as plt"
   ]
  },
  {
   "cell_type": "code",
   "execution_count": 2,
   "metadata": {
    "collapsed": true
   },
   "outputs": [],
   "source": [
    "def binary_search(list, item):\n",
    "    \n",
    "    low = 0\n",
    "    high = len(list) - 1\n",
    "\n",
    "    while low <= high:\n",
    "        mid = (low + high) // 2\n",
    "        guess = list[mid]\n",
    "        if guess == item:\n",
    "            return mid\n",
    "        if guess > item:\n",
    "            high = mid - 1\n",
    "        else:\n",
    "            low = mid + 1\n",
    "    \n",
    "    return None, runtime"
   ]
  },
  {
   "cell_type": "code",
   "execution_count": 3,
   "metadata": {
    "collapsed": true
   },
   "outputs": [],
   "source": [
    "def linear_search(list, item):\n",
    "    \n",
    "    i = 0\n",
    "    high = len(list) - 1\n",
    "    \n",
    "    while i <= high:\n",
    "        if list[i] == item:\n",
    "            return i\n",
    "        else:\n",
    "            i = i + 1\n",
    "\n",
    "    return None, runtime"
   ]
  },
  {
   "cell_type": "code",
   "execution_count": 4,
   "metadata": {
    "collapsed": true
   },
   "outputs": [],
   "source": [
    "np.random.seed(393)\n",
    "array_lengths = [512, 1024, 2048, 4096, 8192]\n",
    "\n",
    "# I used the random number generator to select my random number\n",
    "# I defined array lengths early on to use it in the loop below"
   ]
  },
  {
   "cell_type": "code",
   "execution_count": 5,
   "metadata": {
    "collapsed": true
   },
   "outputs": [],
   "source": [
    "def generate_rand_array(x):\n",
    "    return np.random.randint(0, x, x)\n",
    "\n",
    "# I generated a random array from 0 to max value as defined above in array_lengths"
   ]
  },
  {
   "cell_type": "code",
   "execution_count": 6,
   "metadata": {
    "collapsed": true
   },
   "outputs": [],
   "source": [
    "results = []\n",
    "\n",
    "# Empty results and will add in values"
   ]
  },
  {
   "cell_type": "code",
   "execution_count": 7,
   "metadata": {
    "collapsed": true
   },
   "outputs": [],
   "source": [
    "for x in range(len(array_lengths)):\n",
    "    \n",
    "    array_length = array_lengths[x]\n",
    "    # Example.. array length of 512\n",
    "    \n",
    "    # generating array\n",
    "    rand_array = generate_rand_array(array_length)\n",
    "    \n",
    "    # sorting\n",
    "    start = time.clock()*1000\n",
    "    rand_array.sort()\n",
    "    end = time.clock()*1000\n",
    "    sort_time = end - start\n",
    "    # I will calculate runtime for each sort, linear search and binary search\n",
    "    \n",
    "    max_value = rand_array[array_length - 1]\n",
    "    # Max value is called to check time to search in linear and binary search\n",
    "    \n",
    "    # linear search\n",
    "    start = time.clock()*1000\n",
    "    linear_value = linear_search(rand_array, max_value)\n",
    "    end = time.clock()*1000\n",
    "    linear_time = end - start\n",
    "    \n",
    "    # binary search\n",
    "    start = time.clock()*1000\n",
    "    binary_value = binary_search(rand_array, max_value)\n",
    "    end = time.clock()*1000\n",
    "    binary_time = end - start\n",
    "    \n",
    "    linear_sort = linear_time + sort_time\n",
    "    binary_sort = binary_time + sort_time\n",
    "    \n",
    "    results.append([array_length, sort_time, linear_time, binary_time, linear_sort, binary_sort])\n",
    "    # length and times for each steps are added into the empty results called earlier"
   ]
  },
  {
   "cell_type": "code",
   "execution_count": 17,
   "metadata": {},
   "outputs": [
    {
     "name": "stdout",
     "output_type": "stream",
     "text": [
      "[  512.  1024.  2048.  4096.  8192.]\n"
     ]
    }
   ],
   "source": [
    "np_results = np.array(results) # changing into numpy array\n",
    "print(np_results[:,0])\n",
    "# checking lengths"
   ]
  },
  {
   "cell_type": "code",
   "execution_count": 9,
   "metadata": {},
   "outputs": [
    {
     "name": "stdout",
     "output_type": "stream",
     "text": [
      "[ 0.058525    0.04153387  0.08646596  0.19936257  0.40552159]\n"
     ]
    }
   ],
   "source": [
    "print(np_results[:,1])\n",
    "# checking sort times"
   ]
  },
  {
   "cell_type": "code",
   "execution_count": 10,
   "metadata": {},
   "outputs": [
    {
     "name": "stdout",
     "output_type": "stream",
     "text": [
      "[ 0.07853677  0.15329773  0.39834756  0.67058318  1.33248201]\n"
     ]
    }
   ],
   "source": [
    "print(np_results[:,2])\n",
    "# checking linear time"
   ]
  },
  {
   "cell_type": "code",
   "execution_count": 11,
   "metadata": {},
   "outputs": [
    {
     "name": "stdout",
     "output_type": "stream",
     "text": [
      "[ 0.00453097  0.00339823  0.01132742  0.00528613  0.00566371]\n"
     ]
    }
   ],
   "source": [
    "print(np_results[:,3])\n",
    "# checking binary time"
   ]
  },
  {
   "cell_type": "code",
   "execution_count": 12,
   "metadata": {},
   "outputs": [
    {
     "name": "stdout",
     "output_type": "stream",
     "text": [
      "[ 0.13706177  0.1948316   0.48481352  0.86994575  1.7380036 ]\n"
     ]
    }
   ],
   "source": [
    "print(np_results[:,4])\n",
    "# checking linear plus sort time"
   ]
  },
  {
   "cell_type": "code",
   "execution_count": 13,
   "metadata": {},
   "outputs": [
    {
     "name": "stdout",
     "output_type": "stream",
     "text": [
      "[ 0.06305596  0.04493209  0.09779338  0.2046487   0.4111853 ]\n"
     ]
    }
   ],
   "source": [
    "print(np_results[:,5])\n",
    "# checking binary plus sort time"
   ]
  },
  {
   "cell_type": "code",
   "execution_count": 14,
   "metadata": {},
   "outputs": [
    {
     "data": {
      "text/plain": [
       "<matplotlib.legend.Legend at 0x2443c1bd978>"
      ]
     },
     "execution_count": 14,
     "metadata": {},
     "output_type": "execute_result"
    },
    {
     "data": {
      "image/png": "[encoded data removed]",
      "text/plain": [
       "<matplotlib.figure.Figure at 0x2443bcce518>"
      ]
     },
     "metadata": {},
     "output_type": "display_data"
    }
   ],
   "source": [
    "%matplotlib inline\n",
    "\n",
    "fig, axis = plt.subplots()\n",
    "plt.xlabel('Size of Array')\n",
    "plt.ylabel('Execution Time in Milliseconds')\n",
    "plt.title('Plot of Linear and Binary Search Execution Times')\n",
    "a = plt.scatter(np_results[:,0], np_results[:,2], c='b')\n",
    "b = plt.scatter(np_results[:,0], np_results[:,3], c='r')\n",
    "plt.legend((a, b), ('linear', 'binary'))\n",
    "\n",
    "# plot of size of random array vs execution times"
   ]
  },
  {
   "cell_type": "code",
   "execution_count": 15,
   "metadata": {},
   "outputs": [
    {
     "data": {
      "text/plain": [
       "<matplotlib.legend.Legend at 0x2443c37d240>"
      ]
     },
     "execution_count": 15,
     "metadata": {},
     "output_type": "execute_result"
    },
    {
     "data": {
      "image/png": "[encoded data removed]",
      "text/plain": [
       "<matplotlib.figure.Figure at 0x2443bcce128>"
      ]
     },
     "metadata": {},
     "output_type": "display_data"
    }
   ],
   "source": [
    "%matplotlib inline\n",
    "\n",
    "fig, axis = plt.subplots()\n",
    "plt.xlabel('Size of Array')\n",
    "plt.ylabel('Execution Time in Milliseconds')\n",
    "plt.title('Plot of Linear and Binary Search Execution Times')\n",
    "a = plt.scatter(np_results[:,0], np_results[:,2], c='b')\n",
    "b = plt.scatter(np_results[:,0], np_results[:,3], c='r')\n",
    "c = plt.scatter(np_results[:,0], np_results[:,4], c='g')\n",
    "d = plt.scatter(np_results[:,0], np_results[:,5], c='y')\n",
    "plt.legend((a, b, c, d,), ('linear', 'binary', 'linear+sort', 'binary+sort'))\n",
    "\n",
    "# plot of size of random array vs each form of algorithm tested"
   ]
  },
  {
   "cell_type": "markdown",
   "metadata": {},
   "source": [
    "From the numerical results and scatterplots, it is clear that binary searches are faster than linear searches. This is especially true as the size of the arrays grow from 512 to 8192. \n",
    "\n",
    "Linear searches appear to be a straight line. This shows that the time to execute a simple search takes longer and longer as we increase the array size. This is because we are eliminating the wrong answer one at a time. Therefore, the time to run linear searches linearly increases with respect to the array size. Larger arrays (8192) are going to take much longer (1.62 ms) than smaller arrays (512, 0.10 ms). Sorting time appears to take longer for larger arrays (0.52 ms for 8192 and 0.13 ms for 512) and this can be shown in green dots. For larger array sizes, the distance between green and blue dots increases. \n",
    "\n",
    "On the other hand, binary searches take far less since it cuts each step in half and achieves the result in far fewer steps. The time to execute binary searches are logarithmic as shown in red dots. The execution time for an array size of 8192 is 0.007 ms when it is 0.006 ms for an array size of 512. Even with sorting times, binary searches are shown to be much faster algorithms.\n",
    "\n",
    "Big O notations are important to data engineers as they can compare different algorithms. As Bhargava mentions in his book, Grokking Algorithms, data engineers need to know how fast or slow an algorithm runs especially when data is large and time is of essense. Big O notations allow data engineers to compare the number of operations to run the algorithm and gauge how fast the algorithm will grow. It shows the number of operations the algorithm will run. As shown in the scatterplots, the number of operations is far fewer in binary searches than linear searches."
   ]
  }
 ],
 "metadata": {
  "kernelspec": {
   "display_name": "Python 3",
   "language": "python",
   "name": "python3"
  },
  "language_info": {
   "codemirror_mode": {
    "name": "ipython",
    "version": 3
   },
   "file_extension": ".py",
   "mimetype": "text/x-python",
   "name": "python",
   "nbconvert_exporter": "python",
   "pygments_lexer": "ipython3",
   "version": "3.6.3"
  }
 },
 "nbformat": 4,
 "nbformat_minor": 2
}
