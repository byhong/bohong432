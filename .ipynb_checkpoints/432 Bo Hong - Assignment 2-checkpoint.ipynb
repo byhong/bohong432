{
 "cells": [
  {
   "cell_type": "markdown",
   "metadata": {},
   "source": [
    "### Bo Hong - Assignment 2"
   ]
  },
  {
   "cell_type": "code",
   "execution_count": 1,
   "metadata": {
    "collapsed": true
   },
   "outputs": [],
   "source": [
    "import numpy as np\n",
    "import time\n",
    "import matplotlib.pyplot as plt"
   ]
  },
  {
   "cell_type": "code",
   "execution_count": 2,
   "metadata": {},
   "outputs": [
    {
     "name": "stdout",
     "output_type": "stream",
     "text": [
      "[2, 3, 5, 6, 10]\n"
     ]
    }
   ],
   "source": [
    "def findSmallest(arr):\n",
    "  smallest = arr[0]\n",
    "  smallest_index = 0\n",
    "  for i in range(1, len(arr)):\n",
    "    if arr[i] < smallest:\n",
    "      smallest_index = i\n",
    "      smallest = arr[i]      \n",
    "  return smallest_index\n",
    "\n",
    "def selectionSort(arr):\n",
    "  newArr = []\n",
    "  for i in range(len(arr)):\n",
    "      smallest = findSmallest(arr)\n",
    "      newArr.append(arr.pop(smallest))\n",
    "  return newArr\n",
    "\n",
    "# example\n",
    "print(selectionSort([5, 3, 6, 2, 10]))"
   ]
  },
  {
   "cell_type": "code",
   "execution_count": 3,
   "metadata": {
    "collapsed": true
   },
   "outputs": [],
   "source": [
    "np.random.seed(393)\n",
    "a = np.random.randint(0, 9999, size=5000)\n",
    "b = np.random.randint(0, 9999, size=10000)\n",
    "c = np.random.randint(0, 9999, size=15000)\n",
    "d = np.random.randint(0, 9999, size=20000)\n",
    "e = np.random.randint(0, 9999, size=25000)"
   ]
  },
  {
   "cell_type": "code",
   "execution_count": 4,
   "metadata": {},
   "outputs": [],
   "source": [
    "# changing to regular arrays and not numpy array\n",
    "list_a = a.tolist()\n",
    "list_b = b.tolist()\n",
    "list_c = c.tolist()\n",
    "list_d = d.tolist()\n",
    "list_e = e.tolist()"
   ]
  },
  {
   "cell_type": "code",
   "execution_count": 5,
   "metadata": {},
   "outputs": [],
   "source": [
    "start = time.clock()\n",
    "sorted_a = selectionSort(list_a)\n",
    "end = time.clock()\n",
    "time_a = end - start\n",
    "\n",
    "start = time.clock()\n",
    "sorted_b = selectionSort(list_b)\n",
    "end = time.clock()\n",
    "time_b = end - start\n",
    "\n",
    "start = time.clock()\n",
    "sorted_c = selectionSort(list_c)\n",
    "end = time.clock()\n",
    "time_c = end - start\n",
    "\n",
    "start = time.clock()\n",
    "sorted_d = selectionSort(list_d)\n",
    "end = time.clock()\n",
    "time_d = end - start\n",
    "\n",
    "start = time.clock()\n",
    "sorted_e = selectionSort(list_e)\n",
    "end = time.clock()\n",
    "time_e = end - start"
   ]
  },
  {
   "cell_type": "code",
   "execution_count": 6,
   "metadata": {},
   "outputs": [
    {
     "name": "stdout",
     "output_type": "stream",
     "text": [
      "[['Size of Array' 'Execution Time']\n",
      " ['5000' '0.6109337531022968']\n",
      " ['10000' '2.3960903792079944']\n",
      " ['15000' '5.2913676385466015']\n",
      " ['20000' '9.757450137647016']\n",
      " ['25000' '9.757450137647016']]\n"
     ]
    }
   ],
   "source": [
    "table = np.array([[\"Size of Array\", \"Execution Time\"],\n",
    "                ['5000', time_a],\n",
    "                ['10000', time_b],\n",
    "                ['15000', time_c],\n",
    "                ['20000', time_d],\n",
    "                ['25000', time_d]])\n",
    "\n",
    "print(table)"
   ]
  },
  {
   "cell_type": "code",
   "execution_count": 7,
   "metadata": {},
   "outputs": [
    {
     "data": {
      "image/png": "[encoded data removed]",
      "text/plain": [
       "<matplotlib.figure.Figure at 0x26aadbe44a8>"
      ]
     },
     "metadata": {},
     "output_type": "display_data"
    }
   ],
   "source": [
    "plt.title('Execution Time vs Size of Data Array')\n",
    "plt.xlabel('Size of Data Array')\n",
    "plt.ylabel('Execution Time')\n",
    "plt.plot()\n",
    "a = plt.plot([5000, 10000, 15000, 20000, 25000],\n",
    "            [time_a, time_b, time_c, time_d, time_e])\n",
    "plt.show()"
   ]
  },
  {
   "cell_type": "markdown",
   "metadata": {},
   "source": [
    "Execution Summary\n",
    "\n",
    "Five data arrays of sizes 5000, 10,000, 15,000, 20,000, and 25,000 numbers were created. These arrays where sorted using grokking algorithms' selectionSort() function from chapter 2. Upon trying this the first time, I received an error statying that 'numpy.ndarray object has no attribute pop.' I changed the numpy arrays to regular arrays using .tolist() to use selectionSort(). The execution times to sort each arrays were recorded. The table and plot shows that exeuction times for selection sorting are in linear time, O(n). As Bhargava mentions in his book, this is likely to be O(nxn) or O(n^2) times since it takes O(n) times to look through the list and do this n or 5 times in this case. As the graph shows, selectionSort() will take a long time if there are more arrays with larger size, and data engineers should explore other options."
   ]
  }
 ],
 "metadata": {
  "kernelspec": {
   "display_name": "Python 3",
   "language": "python",
   "name": "python3"
  },
  "language_info": {
   "codemirror_mode": {
    "name": "ipython",
    "version": 3
   },
   "file_extension": ".py",
   "mimetype": "text/x-python",
   "name": "python",
   "nbconvert_exporter": "python",
   "pygments_lexer": "ipython3",
   "version": "3.6.3"
  }
 },
 "nbformat": 4,
 "nbformat_minor": 2
}
